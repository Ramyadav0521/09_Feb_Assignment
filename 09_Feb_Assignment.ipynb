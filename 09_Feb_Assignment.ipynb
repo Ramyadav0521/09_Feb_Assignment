{
 "cells": [
  {
   "cell_type": "code",
   "execution_count": 1,
   "id": "2a496339-927f-4642-9c6d-f2b4cb17bca4",
   "metadata": {},
   "outputs": [],
   "source": [
    "# Q1, Create a vehicle class with an init method having instance variables as name_of_vehicle, max_speed \n",
    "# and average_of_vehicle. "
   ]
  },
  {
   "cell_type": "code",
   "execution_count": 2,
   "id": "6dcdc837-d5e7-49b6-97c5-8172acdc664c",
   "metadata": {},
   "outputs": [],
   "source": [
    "class vehicle:\n",
    "    def __init__(name_of_vehicle,max_speed,average_of_vehicle):\n",
    "        name_of_vehicle.max_speed = max_speed\n",
    "        name_of_vehicle.average_of_vehicle= average_of_vehicle"
   ]
  },
  {
   "cell_type": "code",
   "execution_count": 3,
   "id": "1356c32b-0f3a-451f-b6ff-dc2051cae769",
   "metadata": {},
   "outputs": [],
   "source": [
    "v = vehicle(180,60)"
   ]
  },
  {
   "cell_type": "code",
   "execution_count": 4,
   "id": "8e0d292f-78a1-4b8e-91e8-361a12e38b7b",
   "metadata": {},
   "outputs": [
    {
     "name": "stdout",
     "output_type": "stream",
     "text": [
      "180\n"
     ]
    }
   ],
   "source": [
    "print(v.max_speed)"
   ]
  },
  {
   "cell_type": "code",
   "execution_count": 5,
   "id": "fff365d5-238a-4801-bad0-5091a2a4c434",
   "metadata": {},
   "outputs": [
    {
     "name": "stdout",
     "output_type": "stream",
     "text": [
      "60\n"
     ]
    }
   ],
   "source": [
    "print(v.average_of_vehicle)"
   ]
  },
  {
   "cell_type": "code",
   "execution_count": 15,
   "id": "89ad884d-bc68-428a-bdec-5cc0c17d7922",
   "metadata": {},
   "outputs": [],
   "source": [
    "class car:\n",
    "    def __init__(name_of_capacity,two_seater,four_seater,lexus_car):\n",
    "        name_of_capacity.two_seater = two_seater\n",
    "        name_of_capacity.four_seater= four_seater\n",
    "        name_of_capacity.lexus_car =lexus_car"
   ]
  },
  {
   "cell_type": "code",
   "execution_count": 30,
   "id": "b6575a9d-bbc2-4140-bf0b-8371340f0ebe",
   "metadata": {},
   "outputs": [],
   "source": [
    "class vehicle(car):\n",
    "    pass"
   ]
  },
  {
   "cell_type": "code",
   "execution_count": 28,
   "id": "6e191f68-9ea8-4ea2-a945-ad78a5d66ba9",
   "metadata": {},
   "outputs": [],
   "source": [
    "car1 = vehicle(\"Porsche 911\",\"Lexus 300h\",'Mercedes AMG GT Four-door')"
   ]
  },
  {
   "cell_type": "code",
   "execution_count": 32,
   "id": "099f2d4c-c13e-4f47-ab03-3ad0e410901b",
   "metadata": {},
   "outputs": [
    {
     "name": "stdout",
     "output_type": "stream",
     "text": [
      "Porsche 911\n"
     ]
    }
   ],
   "source": [
    "print(car1.two_seater)"
   ]
  },
  {
   "cell_type": "code",
   "execution_count": null,
   "id": "75b8b082-5974-4e0a-90ce-4fd5b4e8b189",
   "metadata": {},
   "outputs": [],
   "source": []
  },
  {
   "cell_type": "code",
   "execution_count": 33,
   "id": "c087198d-d048-4888-8927-8964af828bf4",
   "metadata": {},
   "outputs": [],
   "source": [
    "# Q3. What is multiple inheritance? Write a python code to demonstrate multiple inheritance."
   ]
  },
  {
   "cell_type": "code",
   "execution_count": 35,
   "id": "cd0e8ed8-4ef3-490a-bd2b-edabd1a85cf9",
   "metadata": {},
   "outputs": [],
   "source": [
    "# \"\"\"\n",
    "#     Multiple Inheritance:-when a child class becomes a parent for another child class\n",
    "#     some examples:-\n",
    "#     1)Parent \n",
    "#          i)child 1 ii) child 2\n",
    "         \n",
    "#     The property of acquiring all the properties and behaviors of the parent object by an object is termed as Python inheritance.\n",
    "#     Python facilitates inheritance of a derived class from more than one base class which is also called as multiple inheritance in Python.       \n",
    "# \"\"\"          "
   ]
  },
  {
   "cell_type": "code",
   "execution_count": 83,
   "id": "88fdce3d-b2f9-44d6-851a-d065212e8037",
   "metadata": {},
   "outputs": [
    {
     "name": "stdout",
     "output_type": "stream",
     "text": [
      "Vishal Singh\n",
      "Manish Pawar\n"
     ]
    }
   ],
   "source": [
    "class Good_friends:\n",
    "    def Good_friend1(self):\n",
    "        print(\"Vishal Singh\")\n",
    "\n",
    "class Teacher:\n",
    "    def Teacher1(self):\n",
    "        print(\"Manish Pawar\")\n",
    "\n",
    "class Bat(Good_friends, Teacher):\n",
    "    pass\n",
    "\n",
    "# create an object of Bat class\n",
    "b1 = Bat()\n",
    "\n",
    "b1.Good_friend1()\n",
    "b1.Teacher1()"
   ]
  },
  {
   "cell_type": "code",
   "execution_count": 84,
   "id": "9d4617b2-0177-4ba5-9693-66a8fbd1b585",
   "metadata": {},
   "outputs": [],
   "source": [
    "# Q4. What are getter and setter in python? Create a class and create a getter and a setter method in this class."
   ]
  },
  {
   "cell_type": "code",
   "execution_count": 88,
   "id": "3ff597ba-e24d-4edb-b7cb-5ba298ea6b0a",
   "metadata": {},
   "outputs": [],
   "source": [
    "# 1)What is Getter in Python?\n",
    "#     Getters are the methods that are used in Object-Oriented Programming (OOPS) to access a class's \n",
    "#     private attributes. The setattr() function in Python corresponds to the getattr() function in Python. \n",
    "#     It alters an object's attribute values.\n",
    "\n",
    "# 2)What is Setter in Python?\n",
    "#     The setter is a method that is used to set the property's value. \n",
    "#     It is very useful in object-oriented programming to set the value of private attributes in a class.\n",
    "\n",
    "#     Generally, getters and setters are mainly used to ensure the data encapsulation in OOPs."
   ]
  },
  {
   "cell_type": "code",
   "execution_count": 90,
   "id": "c33fd3e0-63a3-498d-b633-3be148eb99c9",
   "metadata": {},
   "outputs": [
    {
     "name": "stdout",
     "output_type": "stream",
     "text": [
      "21\n",
      "21\n"
     ]
    }
   ],
   "source": [
    "class data_science:   \n",
    "    def __init__(self, age = 0):   \n",
    "         self._age = age   \n",
    "      # using the getter method   \n",
    "    def get_age(self):   \n",
    "        return self._age   \n",
    "      # using the setter method   \n",
    "    def set_age(self, a):   \n",
    "        self._age = a   \n",
    "    \n",
    "Harry = data_science()   \n",
    "    \n",
    "#using the setter function  \n",
    "Harry.set_age(21)   \n",
    "    \n",
    "# using the getter function  \n",
    "print(Harry.get_age())   \n",
    "    \n",
    "print(Harry._age)  "
   ]
  },
  {
   "cell_type": "code",
   "execution_count": 91,
   "id": "28883859-8f90-4f86-99bd-ebdbdcfb6a07",
   "metadata": {},
   "outputs": [],
   "source": [
    "# Q5.What is method overriding in python? Write a python code to demonstrate method overriding."
   ]
  },
  {
   "cell_type": "code",
   "execution_count": 92,
   "id": "d9356bf1-30dd-4080-9f45-85becdd1bc12",
   "metadata": {},
   "outputs": [],
   "source": [
    "# Method Overriding\n",
    "#         We can provide some specific implementation of the parent class method in our child class. When the parent \n",
    "#         class method is defined in the child class with some specific implementation, then the concept is called method overriding.\n",
    "#         We may need to perform method overriding in the scenario where the different definition of a parent class method is needed in the child class."
   ]
  },
  {
   "cell_type": "code",
   "execution_count": 95,
   "id": "149ee11e-fca6-4768-9580-eb8af6c4cc53",
   "metadata": {},
   "outputs": [
    {
     "name": "stdout",
     "output_type": "stream",
     "text": [
      "Automation\n",
      "Machine Learing\n"
     ]
    }
   ],
   "source": [
    "class data_science:  \n",
    "    def project1(self):  \n",
    "        print(\"Machine Learing\")  \n",
    "class course(data_science):  \n",
    "    def project(self):  \n",
    "        print(\"Automation\")  \n",
    "d = course()  \n",
    "d.project() \n",
    "d.project1()"
   ]
  },
  {
   "cell_type": "code",
   "execution_count": null,
   "id": "19ca3da8-686d-4a9b-8e75-1d8fbf7ac036",
   "metadata": {},
   "outputs": [],
   "source": []
  }
 ],
 "metadata": {
  "kernelspec": {
   "display_name": "Python 3 (ipykernel)",
   "language": "python",
   "name": "python3"
  },
  "language_info": {
   "codemirror_mode": {
    "name": "ipython",
    "version": 3
   },
   "file_extension": ".py",
   "mimetype": "text/x-python",
   "name": "python",
   "nbconvert_exporter": "python",
   "pygments_lexer": "ipython3",
   "version": "3.10.6"
  }
 },
 "nbformat": 4,
 "nbformat_minor": 5
}
